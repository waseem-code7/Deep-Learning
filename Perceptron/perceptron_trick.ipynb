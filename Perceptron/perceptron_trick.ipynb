{
 "cells": [
  {
   "cell_type": "code",
   "execution_count": 94,
   "id": "1c19db81-cfd4-462e-aa62-dbb196667e03",
   "metadata": {},
   "outputs": [],
   "source": [
    "import numpy as np\n",
    "import pandas as pd\n",
    "import matplotlib.pyplot as plt"
   ]
  },
  {
   "cell_type": "code",
   "execution_count": 95,
   "id": "e47aef87-94c6-4d94-8c7f-c80b7b146c1c",
   "metadata": {},
   "outputs": [],
   "source": [
    "df = pd.read_csv('placement.csv')"
   ]
  },
  {
   "cell_type": "code",
   "execution_count": 96,
   "id": "5d4ea5ab-bd87-4338-b9f3-748e36db4dfb",
   "metadata": {},
   "outputs": [
    {
     "data": {
      "text/html": [
       "<div>\n",
       "<style scoped>\n",
       "    .dataframe tbody tr th:only-of-type {\n",
       "        vertical-align: middle;\n",
       "    }\n",
       "\n",
       "    .dataframe tbody tr th {\n",
       "        vertical-align: top;\n",
       "    }\n",
       "\n",
       "    .dataframe thead th {\n",
       "        text-align: right;\n",
       "    }\n",
       "</style>\n",
       "<table border=\"1\" class=\"dataframe\">\n",
       "  <thead>\n",
       "    <tr style=\"text-align: right;\">\n",
       "      <th></th>\n",
       "      <th>cgpa</th>\n",
       "      <th>resume_score</th>\n",
       "      <th>placed</th>\n",
       "    </tr>\n",
       "  </thead>\n",
       "  <tbody>\n",
       "    <tr>\n",
       "      <th>0</th>\n",
       "      <td>8.14</td>\n",
       "      <td>6.52</td>\n",
       "      <td>1</td>\n",
       "    </tr>\n",
       "    <tr>\n",
       "      <th>1</th>\n",
       "      <td>6.17</td>\n",
       "      <td>5.17</td>\n",
       "      <td>0</td>\n",
       "    </tr>\n",
       "    <tr>\n",
       "      <th>2</th>\n",
       "      <td>8.27</td>\n",
       "      <td>8.86</td>\n",
       "      <td>1</td>\n",
       "    </tr>\n",
       "    <tr>\n",
       "      <th>3</th>\n",
       "      <td>6.88</td>\n",
       "      <td>7.27</td>\n",
       "      <td>1</td>\n",
       "    </tr>\n",
       "    <tr>\n",
       "      <th>4</th>\n",
       "      <td>7.52</td>\n",
       "      <td>7.30</td>\n",
       "      <td>1</td>\n",
       "    </tr>\n",
       "  </tbody>\n",
       "</table>\n",
       "</div>"
      ],
      "text/plain": [
       "   cgpa  resume_score  placed\n",
       "0  8.14          6.52       1\n",
       "1  6.17          5.17       0\n",
       "2  8.27          8.86       1\n",
       "3  6.88          7.27       1\n",
       "4  7.52          7.30       1"
      ]
     },
     "execution_count": 96,
     "metadata": {},
     "output_type": "execute_result"
    }
   ],
   "source": [
    "df.head()"
   ]
  },
  {
   "cell_type": "code",
   "execution_count": 97,
   "id": "f96518d4-0314-462a-9ade-cf69db0f72b9",
   "metadata": {},
   "outputs": [],
   "source": [
    "X = df.iloc[:,0:2].values\n",
    "y = df.iloc[:, -1].values"
   ]
  },
  {
   "cell_type": "code",
   "execution_count": 98,
   "id": "994b8f6e-f3b3-422b-85f6-c49a287ebac4",
   "metadata": {},
   "outputs": [],
   "source": [
    "EPOCH = 1000\n",
    "learning_rate = 0.2"
   ]
  },
  {
   "cell_type": "code",
   "execution_count": 99,
   "id": "c4503804-26bc-4716-9d87-1e3be4d67727",
   "metadata": {},
   "outputs": [],
   "source": [
    "def step(val):\n",
    "    return 1 if val >= 0 else 0"
   ]
  },
  {
   "cell_type": "code",
   "execution_count": 100,
   "id": "8a865ecd-4d5c-4dde-b808-47aecd8b7989",
   "metadata": {},
   "outputs": [],
   "source": [
    "def perceptron(x, y):\n",
    "    X = np.insert(x, 0, 1, axis=1)\n",
    "    weight = np.ones(X[0].shape)\n",
    "\n",
    "    for e in range(EPOCH):\n",
    "        j = np.random.randint(0,100)\n",
    "        y_hat = step(np.dot(weight, X[j]))\n",
    "        weight = weight + learning_rate * (y[j] - y_hat) * X[j]\n",
    "    return (weight[0], weight[1:])"
   ]
  },
  {
   "cell_type": "code",
   "execution_count": 101,
   "id": "5e9cf7f5-d710-4cf2-a8b0-41156ef72538",
   "metadata": {},
   "outputs": [],
   "source": [
    "result = perceptron(X, y)"
   ]
  },
  {
   "cell_type": "code",
   "execution_count": 102,
   "id": "899acdc4-ad65-422d-acf0-c75a093e6d4b",
   "metadata": {},
   "outputs": [
    {
     "name": "stdout",
     "output_type": "stream",
     "text": [
      "(np.float64(-5.400000000000002), array([ 9.152, -7.902]))\n"
     ]
    }
   ],
   "source": [
    "print(result)"
   ]
  },
  {
   "cell_type": "code",
   "execution_count": 103,
   "id": "79b117fa-d9c5-4b28-87d6-9bb580e71ecc",
   "metadata": {},
   "outputs": [],
   "source": [
    "coeff = result[1].tolist()\n",
    "intercept = float(result[0])"
   ]
  },
  {
   "cell_type": "code",
   "execution_count": 104,
   "id": "5f9700dd-d1fa-4d46-ac15-5d005c9a9632",
   "metadata": {},
   "outputs": [
    {
     "name": "stdout",
     "output_type": "stream",
     "text": [
      "[9.151999999999987, -7.901999999999991] -5.400000000000002\n"
     ]
    }
   ],
   "source": [
    "print(coeff, intercept)"
   ]
  },
  {
   "cell_type": "code",
   "execution_count": 105,
   "id": "a014d3af-e466-41b8-b7e2-ae336adf0bd2",
   "metadata": {},
   "outputs": [],
   "source": [
    "m = - coeff[0] / coeff[1]\n",
    "c = - intercept / coeff[1]"
   ]
  },
  {
   "cell_type": "code",
   "execution_count": 107,
   "id": "826914be-37a1-4c08-b888-cf8f4c61b316",
   "metadata": {},
   "outputs": [
    {
     "data": {
      "text/plain": [
       "<matplotlib.collections.PathCollection at 0x1197982d0>"
      ]
     },
     "execution_count": 107,
     "metadata": {},
     "output_type": "execute_result"
    },
    {
     "data": {
      "image/png": "[encoded data removed]",
      "text/plain": [
       "<Figure size 640x480 with 1 Axes>"
      ]
     },
     "metadata": {},
     "output_type": "display_data"
    }
   ],
   "source": [
    "x_input = np.linspace(0, 10, 100)\n",
    "y_input = m * x_input + c\n",
    "plt.plot(x_input, y_input, color=\"red\")\n",
    "plt.scatter(X[:,0],X[:,1], c=y, cmap='winter',s=10)"
   ]
  },
  {
   "cell_type": "code",
   "execution_count": null,
   "id": "a568f004-823b-4e0e-9b71-3330d2cd4766",
   "metadata": {},
   "outputs": [],
   "source": []
  },
  {
   "cell_type": "code",
   "execution_count": null,
   "id": "29a9c6ee-07f7-4132-9ebe-57dfc420b6f2",
   "metadata": {},
   "outputs": [],
   "source": []
  }
 ],
 "metadata": {
  "kernelspec": {
   "display_name": "Python 3 (ipykernel)",
   "language": "python",
   "name": "python3"
  },
  "language_info": {
   "codemirror_mode": {
    "name": "ipython",
    "version": 3
   },
   "file_extension": ".py",
   "mimetype": "text/x-python",
   "name": "python",
   "nbconvert_exporter": "python",
   "pygments_lexer": "ipython3",
   "version": "3.13.5"
  }
 },
 "nbformat": 4,
 "nbformat_minor": 5
}
